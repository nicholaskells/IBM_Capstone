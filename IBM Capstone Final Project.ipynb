{
    "cells": [
        {
            "cell_type": "markdown",
            "metadata": {
                "collapsed": true
            },
            "source": "# Finding the ideal neighborhood for Apartments20"
        },
        {
            "cell_type": "markdown",
            "metadata": {},
            "source": "This notebook will use K-means clustering to find neighborhoods in Toronto for a fictitous company, Apartments20, to build their new apartment building. "
        },
        {
            "cell_type": "code",
            "execution_count": 3,
            "metadata": {},
            "outputs": [],
            "source": "#import neccessary libraries\nimport pandas as pd\nimport numpy as np\nimport requests"
        },
        {
            "cell_type": "code",
            "execution_count": 4,
            "metadata": {},
            "outputs": [
                {
                    "data": {
                        "text/html": "<div>\n<style scoped>\n    .dataframe tbody tr th:only-of-type {\n        vertical-align: middle;\n    }\n\n    .dataframe tbody tr th {\n        vertical-align: top;\n    }\n\n    .dataframe thead th {\n        text-align: right;\n    }\n</style>\n<table border=\"1\" class=\"dataframe\">\n  <thead>\n    <tr style=\"text-align: right;\">\n      <th></th>\n      <th>Postcode</th>\n      <th>Borough</th>\n      <th>Neighbourhood</th>\n    </tr>\n  </thead>\n  <tbody>\n    <tr>\n      <th>0</th>\n      <td>M1A</td>\n      <td>Not assigned</td>\n      <td>Not assigned</td>\n    </tr>\n    <tr>\n      <th>1</th>\n      <td>M2A</td>\n      <td>Not assigned</td>\n      <td>Not assigned</td>\n    </tr>\n    <tr>\n      <th>2</th>\n      <td>M3A</td>\n      <td>North York</td>\n      <td>Parkwoods</td>\n    </tr>\n    <tr>\n      <th>3</th>\n      <td>M4A</td>\n      <td>North York</td>\n      <td>Victoria Village</td>\n    </tr>\n    <tr>\n      <th>4</th>\n      <td>M5A</td>\n      <td>Downtown Toronto</td>\n      <td>Harbourfront</td>\n    </tr>\n  </tbody>\n</table>\n</div>",
                        "text/plain": "  Postcode           Borough     Neighbourhood\n0      M1A      Not assigned      Not assigned\n1      M2A      Not assigned      Not assigned\n2      M3A        North York         Parkwoods\n3      M4A        North York  Victoria Village\n4      M5A  Downtown Toronto      Harbourfront"
                    },
                    "execution_count": 4,
                    "metadata": {},
                    "output_type": "execute_result"
                }
            ],
            "source": "#Scrape the data from the wikipedia URL to a Pandas Dataframe\n\nurl = requests.get('https://en.wikipedia.org/w/index.php?title=List_of_postal_codes_of_Canada:_M&oldid=945633050.').text\ndf = pd.read_html(url)[0]\ndf.head()"
        },
        {
            "cell_type": "code",
            "execution_count": 5,
            "metadata": {},
            "outputs": [
                {
                    "data": {
                        "text/html": "<div>\n<style scoped>\n    .dataframe tbody tr th:only-of-type {\n        vertical-align: middle;\n    }\n\n    .dataframe tbody tr th {\n        vertical-align: top;\n    }\n\n    .dataframe thead th {\n        text-align: right;\n    }\n</style>\n<table border=\"1\" class=\"dataframe\">\n  <thead>\n    <tr style=\"text-align: right;\">\n      <th></th>\n      <th>Postcode</th>\n      <th>Borough</th>\n      <th>Neighbourhood</th>\n    </tr>\n  </thead>\n  <tbody>\n    <tr>\n      <th>2</th>\n      <td>M3A</td>\n      <td>North York</td>\n      <td>Parkwoods</td>\n    </tr>\n    <tr>\n      <th>3</th>\n      <td>M4A</td>\n      <td>North York</td>\n      <td>Victoria Village</td>\n    </tr>\n    <tr>\n      <th>4</th>\n      <td>M5A</td>\n      <td>Downtown Toronto</td>\n      <td>Harbourfront</td>\n    </tr>\n    <tr>\n      <th>5</th>\n      <td>M6A</td>\n      <td>North York</td>\n      <td>Lawrence Heights</td>\n    </tr>\n    <tr>\n      <th>6</th>\n      <td>M6A</td>\n      <td>North York</td>\n      <td>Lawrence Manor</td>\n    </tr>\n  </tbody>\n</table>\n</div>",
                        "text/plain": "  Postcode           Borough     Neighbourhood\n2      M3A        North York         Parkwoods\n3      M4A        North York  Victoria Village\n4      M5A  Downtown Toronto      Harbourfront\n5      M6A        North York  Lawrence Heights\n6      M6A        North York    Lawrence Manor"
                    },
                    "execution_count": 5,
                    "metadata": {},
                    "output_type": "execute_result"
                }
            ],
            "source": "#Now lets drop columns with missing data on borough and Neighborhood\ndf = df[df.Borough != 'Not assigned']\ndf = df[df.Neighbourhood != 'Not assigned']\ndf.head()"
        },
        {
            "cell_type": "code",
            "execution_count": 6,
            "metadata": {},
            "outputs": [
                {
                    "data": {
                        "text/plain": "(210, 3)"
                    },
                    "execution_count": 6,
                    "metadata": {},
                    "output_type": "execute_result"
                }
            ],
            "source": "df.shape"
        },
        {
            "cell_type": "code",
            "execution_count": 7,
            "metadata": {},
            "outputs": [],
            "source": "#aggregate neighborhoods that have the same postal code into the same row\n#This is neccessary because our geographical coordinates correspond to the PostCode and not the Neighborhood\naggregation_functions = {'Postcode' : 'first', 'Borough': 'first', 'Neighbourhood': ', '.join}\ndf_agg = df.groupby(df['Postcode']).aggregate(aggregation_functions)"
        },
        {
            "cell_type": "code",
            "execution_count": 8,
            "metadata": {},
            "outputs": [
                {
                    "data": {
                        "text/html": "<div>\n<style scoped>\n    .dataframe tbody tr th:only-of-type {\n        vertical-align: middle;\n    }\n\n    .dataframe tbody tr th {\n        vertical-align: top;\n    }\n\n    .dataframe thead th {\n        text-align: right;\n    }\n</style>\n<table border=\"1\" class=\"dataframe\">\n  <thead>\n    <tr style=\"text-align: right;\">\n      <th></th>\n      <th>Postcode</th>\n      <th>Borough</th>\n      <th>Neighbourhood</th>\n    </tr>\n    <tr>\n      <th>Postcode</th>\n      <th></th>\n      <th></th>\n      <th></th>\n    </tr>\n  </thead>\n  <tbody>\n    <tr>\n      <th>M1B</th>\n      <td>M1B</td>\n      <td>Scarborough</td>\n      <td>Rouge, Malvern</td>\n    </tr>\n    <tr>\n      <th>M1C</th>\n      <td>M1C</td>\n      <td>Scarborough</td>\n      <td>Highland Creek, Rouge Hill, Port Union</td>\n    </tr>\n    <tr>\n      <th>M1E</th>\n      <td>M1E</td>\n      <td>Scarborough</td>\n      <td>Guildwood, Morningside, West Hill</td>\n    </tr>\n    <tr>\n      <th>M1G</th>\n      <td>M1G</td>\n      <td>Scarborough</td>\n      <td>Woburn</td>\n    </tr>\n    <tr>\n      <th>M1H</th>\n      <td>M1H</td>\n      <td>Scarborough</td>\n      <td>Cedarbrae</td>\n    </tr>\n  </tbody>\n</table>\n</div>",
                        "text/plain": "         Postcode      Borough                           Neighbourhood\nPostcode                                                              \nM1B           M1B  Scarborough                          Rouge, Malvern\nM1C           M1C  Scarborough  Highland Creek, Rouge Hill, Port Union\nM1E           M1E  Scarborough       Guildwood, Morningside, West Hill\nM1G           M1G  Scarborough                                  Woburn\nM1H           M1H  Scarborough                               Cedarbrae"
                    },
                    "execution_count": 8,
                    "metadata": {},
                    "output_type": "execute_result"
                }
            ],
            "source": "df_agg.head()"
        },
        {
            "cell_type": "code",
            "execution_count": 9,
            "metadata": {},
            "outputs": [
                {
                    "data": {
                        "text/plain": "False"
                    },
                    "execution_count": 9,
                    "metadata": {},
                    "output_type": "execute_result"
                }
            ],
            "source": "#Checking to make sure we don't have any null values\ndf_agg.isnull().values.any()"
        },
        {
            "cell_type": "code",
            "execution_count": 10,
            "metadata": {},
            "outputs": [
                {
                    "data": {
                        "text/plain": "(103, 3)"
                    },
                    "execution_count": 10,
                    "metadata": {},
                    "output_type": "execute_result"
                }
            ],
            "source": "#Checking shape of our dataframe\ndf_agg.shape"
        },
        {
            "cell_type": "markdown",
            "metadata": {},
            "source": "# Adding Coordinates to our Dataframe"
        },
        {
            "cell_type": "code",
            "execution_count": 11,
            "metadata": {},
            "outputs": [],
            "source": "#Reading coordinates data from csv into a pandas dataframe\ndf_coords = pd.read_csv('http://cocl.us/Geospatial_data')"
        },
        {
            "cell_type": "code",
            "execution_count": 12,
            "metadata": {},
            "outputs": [
                {
                    "data": {
                        "text/html": "<div>\n<style scoped>\n    .dataframe tbody tr th:only-of-type {\n        vertical-align: middle;\n    }\n\n    .dataframe tbody tr th {\n        vertical-align: top;\n    }\n\n    .dataframe thead th {\n        text-align: right;\n    }\n</style>\n<table border=\"1\" class=\"dataframe\">\n  <thead>\n    <tr style=\"text-align: right;\">\n      <th></th>\n      <th>Postal Code</th>\n      <th>Latitude</th>\n      <th>Longitude</th>\n    </tr>\n  </thead>\n  <tbody>\n    <tr>\n      <th>0</th>\n      <td>M1B</td>\n      <td>43.806686</td>\n      <td>-79.194353</td>\n    </tr>\n    <tr>\n      <th>1</th>\n      <td>M1C</td>\n      <td>43.784535</td>\n      <td>-79.160497</td>\n    </tr>\n    <tr>\n      <th>2</th>\n      <td>M1E</td>\n      <td>43.763573</td>\n      <td>-79.188711</td>\n    </tr>\n    <tr>\n      <th>3</th>\n      <td>M1G</td>\n      <td>43.770992</td>\n      <td>-79.216917</td>\n    </tr>\n    <tr>\n      <th>4</th>\n      <td>M1H</td>\n      <td>43.773136</td>\n      <td>-79.239476</td>\n    </tr>\n  </tbody>\n</table>\n</div>",
                        "text/plain": "  Postal Code   Latitude  Longitude\n0         M1B  43.806686 -79.194353\n1         M1C  43.784535 -79.160497\n2         M1E  43.763573 -79.188711\n3         M1G  43.770992 -79.216917\n4         M1H  43.773136 -79.239476"
                    },
                    "execution_count": 12,
                    "metadata": {},
                    "output_type": "execute_result"
                }
            ],
            "source": "df_coords.head()"
        },
        {
            "cell_type": "code",
            "execution_count": 13,
            "metadata": {},
            "outputs": [
                {
                    "data": {
                        "text/plain": "(103, 3)"
                    },
                    "execution_count": 13,
                    "metadata": {},
                    "output_type": "execute_result"
                }
            ],
            "source": "df_coords.shape"
        },
        {
            "cell_type": "code",
            "execution_count": 14,
            "metadata": {},
            "outputs": [],
            "source": "#Changing Column 'Postcode' in df_agg to match with 'Postal Code' in df_coords. Then Executing merge.\ndf_agg.rename(columns={'Postcode':'Postal Code'}, \n                 inplace=True)\ndf_merge = pd.merge(left=df_agg, right=df_coords)"
        },
        {
            "cell_type": "code",
            "execution_count": 15,
            "metadata": {},
            "outputs": [
                {
                    "data": {
                        "text/html": "<div>\n<style scoped>\n    .dataframe tbody tr th:only-of-type {\n        vertical-align: middle;\n    }\n\n    .dataframe tbody tr th {\n        vertical-align: top;\n    }\n\n    .dataframe thead th {\n        text-align: right;\n    }\n</style>\n<table border=\"1\" class=\"dataframe\">\n  <thead>\n    <tr style=\"text-align: right;\">\n      <th></th>\n      <th>Postal Code</th>\n      <th>Borough</th>\n      <th>Neighbourhood</th>\n      <th>Latitude</th>\n      <th>Longitude</th>\n    </tr>\n  </thead>\n  <tbody>\n    <tr>\n      <th>0</th>\n      <td>M1B</td>\n      <td>Scarborough</td>\n      <td>Rouge, Malvern</td>\n      <td>43.806686</td>\n      <td>-79.194353</td>\n    </tr>\n    <tr>\n      <th>1</th>\n      <td>M1C</td>\n      <td>Scarborough</td>\n      <td>Highland Creek, Rouge Hill, Port Union</td>\n      <td>43.784535</td>\n      <td>-79.160497</td>\n    </tr>\n    <tr>\n      <th>2</th>\n      <td>M1E</td>\n      <td>Scarborough</td>\n      <td>Guildwood, Morningside, West Hill</td>\n      <td>43.763573</td>\n      <td>-79.188711</td>\n    </tr>\n    <tr>\n      <th>3</th>\n      <td>M1G</td>\n      <td>Scarborough</td>\n      <td>Woburn</td>\n      <td>43.770992</td>\n      <td>-79.216917</td>\n    </tr>\n    <tr>\n      <th>4</th>\n      <td>M1H</td>\n      <td>Scarborough</td>\n      <td>Cedarbrae</td>\n      <td>43.773136</td>\n      <td>-79.239476</td>\n    </tr>\n  </tbody>\n</table>\n</div>",
                        "text/plain": "  Postal Code      Borough                           Neighbourhood   Latitude  \\\n0         M1B  Scarborough                          Rouge, Malvern  43.806686   \n1         M1C  Scarborough  Highland Creek, Rouge Hill, Port Union  43.784535   \n2         M1E  Scarborough       Guildwood, Morningside, West Hill  43.763573   \n3         M1G  Scarborough                                  Woburn  43.770992   \n4         M1H  Scarborough                               Cedarbrae  43.773136   \n\n   Longitude  \n0 -79.194353  \n1 -79.160497  \n2 -79.188711  \n3 -79.216917  \n4 -79.239476  "
                    },
                    "execution_count": 15,
                    "metadata": {},
                    "output_type": "execute_result"
                }
            ],
            "source": "df_merge.head()"
        },
        {
            "cell_type": "code",
            "execution_count": 16,
            "metadata": {},
            "outputs": [
                {
                    "data": {
                        "text/plain": "(103, 5)"
                    },
                    "execution_count": 16,
                    "metadata": {},
                    "output_type": "execute_result"
                }
            ],
            "source": "df_merge.shape"
        },
        {
            "cell_type": "markdown",
            "metadata": {},
            "source": "# Pulling venue data from Foursquare"
        },
        {
            "cell_type": "code",
            "execution_count": 2,
            "metadata": {},
            "outputs": [],
            "source": "# The code was removed by Watson Studio for sharing."
        },
        {
            "cell_type": "code",
            "execution_count": 18,
            "metadata": {},
            "outputs": [],
            "source": "#Function to return the venues within a specified radius, given a list of postcodes/neighborhoods, coordinates.\n#The radius is set at 1 mile, or 1,609 meters. \n#Returns a dataframe showing all venues within a mile of the Postal Codes\n#Columns of the dataframe are: Postal Code, Latitude, Longitude, Venue, Venue Lattitude, Venue Longitude, Venue Category\n\ndef getNearbyVenues(names, latitudes, longitudes, radius=1000):\n    \n    venues_list=[]\n    for name, lat, lng in zip(names, latitudes, longitudes):\n        print(name)\n            \n        # create the API request URL\n        url = 'https://api.foursquare.com/v2/venues/explore?&client_id={}&client_secret={}&v={}&ll={},{}&radius={}&limit={}'.format(\n            CLIENT_ID, \n            CLIENT_SECRET, \n            VERSION, \n            lat, \n            lng, \n            radius, \n            LIMIT)\n            \n        # make the GET request\n        results = requests.get(url).json()[\"response\"]['groups'][0]['items']\n        \n        # return only relevant information for each nearby venue\n        venues_list.append([(\n            name, \n            lat, \n            lng, \n            v['venue']['name'], \n            v['venue']['location']['lat'], \n            v['venue']['location']['lng'],  \n            v['venue']['categories'][0]['name']) for v in results])\n\n    nearby_venues = pd.DataFrame([item for venue_list in venues_list for item in venue_list])\n    nearby_venues.columns = ['Neighborhood', \n                  'Neighborhood Latitude', \n                  'Neighborhood Longitude', \n                  'Venue', \n                  'Venue Latitude', \n                  'Venue Longitude', \n                  'Venue Category']\n    \n    return(nearby_venues)"
        },
        {
            "cell_type": "code",
            "execution_count": 19,
            "metadata": {},
            "outputs": [
                {
                    "name": "stdout",
                    "output_type": "stream",
                    "text": "M1B\nM1C\nM1E\nM1G\nM1H\nM1J\nM1K\nM1L\nM1M\nM1N\nM1P\nM1R\nM1S\nM1T\nM1V\nM1W\nM1X\nM2H\nM2J\nM2K\nM2L\nM2M\nM2N\nM2P\nM2R\nM3A\nM3B\nM3C\nM3H\nM3J\nM3K\nM3L\nM3M\nM3N\nM4A\nM4B\nM4C\nM4E\nM4G\nM4H\nM4J\nM4K\nM4L\nM4M\nM4N\nM4P\nM4R\nM4S\nM4T\nM4V\nM4W\nM4X\nM4Y\nM5A\nM5B\nM5C\nM5E\nM5G\nM5H\nM5J\nM5K\nM5L\nM5M\nM5N\nM5P\nM5R\nM5S\nM5T\nM5V\nM5W\nM5X\nM6A\nM6B\nM6C\nM6E\nM6G\nM6H\nM6J\nM6K\nM6L\nM6M\nM6N\nM6P\nM6R\nM6S\nM7A\nM7R\nM7Y\nM8V\nM8W\nM8X\nM8Y\nM8Z\nM9A\nM9B\nM9C\nM9L\nM9M\nM9N\nM9P\nM9R\nM9V\nM9W\n"
                }
            ],
            "source": "toronto_venues = getNearbyVenues(names=df_merge['Postal Code'],\n                                   latitudes=df_merge['Latitude'],\n                                   longitudes=df_merge['Longitude']\n                                  )"
        },
        {
            "cell_type": "code",
            "execution_count": 20,
            "metadata": {},
            "outputs": [
                {
                    "name": "stdout",
                    "output_type": "stream",
                    "text": "(4930, 7)\n"
                },
                {
                    "data": {
                        "text/html": "<div>\n<style scoped>\n    .dataframe tbody tr th:only-of-type {\n        vertical-align: middle;\n    }\n\n    .dataframe tbody tr th {\n        vertical-align: top;\n    }\n\n    .dataframe thead th {\n        text-align: right;\n    }\n</style>\n<table border=\"1\" class=\"dataframe\">\n  <thead>\n    <tr style=\"text-align: right;\">\n      <th></th>\n      <th>Neighborhood</th>\n      <th>Neighborhood Latitude</th>\n      <th>Neighborhood Longitude</th>\n      <th>Venue</th>\n      <th>Venue Latitude</th>\n      <th>Venue Longitude</th>\n      <th>Venue Category</th>\n    </tr>\n  </thead>\n  <tbody>\n    <tr>\n      <th>0</th>\n      <td>M1B</td>\n      <td>43.806686</td>\n      <td>-79.194353</td>\n      <td>Wendy's</td>\n      <td>43.802008</td>\n      <td>-79.198080</td>\n      <td>Fast Food Restaurant</td>\n    </tr>\n    <tr>\n      <th>1</th>\n      <td>M1B</td>\n      <td>43.806686</td>\n      <td>-79.194353</td>\n      <td>Wendy\u2019s</td>\n      <td>43.807448</td>\n      <td>-79.199056</td>\n      <td>Fast Food Restaurant</td>\n    </tr>\n    <tr>\n      <th>2</th>\n      <td>M1B</td>\n      <td>43.806686</td>\n      <td>-79.194353</td>\n      <td>Caribbean Wave</td>\n      <td>43.798558</td>\n      <td>-79.195777</td>\n      <td>Caribbean Restaurant</td>\n    </tr>\n    <tr>\n      <th>3</th>\n      <td>M1B</td>\n      <td>43.806686</td>\n      <td>-79.194353</td>\n      <td>Harvey's</td>\n      <td>43.800020</td>\n      <td>-79.198307</td>\n      <td>Restaurant</td>\n    </tr>\n    <tr>\n      <th>4</th>\n      <td>M1B</td>\n      <td>43.806686</td>\n      <td>-79.194353</td>\n      <td>Staples Morningside</td>\n      <td>43.800285</td>\n      <td>-79.196607</td>\n      <td>Paper / Office Supplies Store</td>\n    </tr>\n  </tbody>\n</table>\n</div>",
                        "text/plain": "  Neighborhood  Neighborhood Latitude  Neighborhood Longitude  \\\n0          M1B              43.806686              -79.194353   \n1          M1B              43.806686              -79.194353   \n2          M1B              43.806686              -79.194353   \n3          M1B              43.806686              -79.194353   \n4          M1B              43.806686              -79.194353   \n\n                 Venue  Venue Latitude  Venue Longitude  \\\n0              Wendy's       43.802008       -79.198080   \n1              Wendy\u2019s       43.807448       -79.199056   \n2       Caribbean Wave       43.798558       -79.195777   \n3             Harvey's       43.800020       -79.198307   \n4  Staples Morningside       43.800285       -79.196607   \n\n                  Venue Category  \n0           Fast Food Restaurant  \n1           Fast Food Restaurant  \n2           Caribbean Restaurant  \n3                     Restaurant  \n4  Paper / Office Supplies Store  "
                    },
                    "execution_count": 20,
                    "metadata": {},
                    "output_type": "execute_result"
                }
            ],
            "source": "print(toronto_venues.shape)\ntoronto_venues.head()"
        },
        {
            "cell_type": "markdown",
            "metadata": {},
            "source": "# Data Prep for K-Means clustering"
        },
        {
            "cell_type": "markdown",
            "metadata": {},
            "source": "We will use One-Hot encoding to convert the categorical variable \"Venue Category\" into binary variables"
        },
        {
            "cell_type": "code",
            "execution_count": 92,
            "metadata": {},
            "outputs": [
                {
                    "data": {
                        "text/html": "<div>\n<style scoped>\n    .dataframe tbody tr th:only-of-type {\n        vertical-align: middle;\n    }\n\n    .dataframe tbody tr th {\n        vertical-align: top;\n    }\n\n    .dataframe thead th {\n        text-align: right;\n    }\n</style>\n<table border=\"1\" class=\"dataframe\">\n  <thead>\n    <tr style=\"text-align: right;\">\n      <th></th>\n      <th>Accessories Store</th>\n      <th>Afghan Restaurant</th>\n      <th>Airport</th>\n      <th>Airport Lounge</th>\n      <th>American Restaurant</th>\n      <th>Amphitheater</th>\n      <th>Animal Shelter</th>\n      <th>Antique Shop</th>\n      <th>Aquarium</th>\n      <th>Art Gallery</th>\n      <th>...</th>\n      <th>Vietnamese Restaurant</th>\n      <th>Warehouse Store</th>\n      <th>Whisky Bar</th>\n      <th>Wine Bar</th>\n      <th>Wine Shop</th>\n      <th>Wings Joint</th>\n      <th>Women's Store</th>\n      <th>Yoga Studio</th>\n      <th>Zoo</th>\n      <th>Postal Code</th>\n    </tr>\n  </thead>\n  <tbody>\n    <tr>\n      <th>0</th>\n      <td>0</td>\n      <td>0</td>\n      <td>0</td>\n      <td>0</td>\n      <td>0</td>\n      <td>0</td>\n      <td>0</td>\n      <td>0</td>\n      <td>0</td>\n      <td>0</td>\n      <td>...</td>\n      <td>0</td>\n      <td>0</td>\n      <td>0</td>\n      <td>0</td>\n      <td>0</td>\n      <td>0</td>\n      <td>0</td>\n      <td>0</td>\n      <td>0</td>\n      <td>M1B</td>\n    </tr>\n    <tr>\n      <th>1</th>\n      <td>0</td>\n      <td>0</td>\n      <td>0</td>\n      <td>0</td>\n      <td>0</td>\n      <td>0</td>\n      <td>0</td>\n      <td>0</td>\n      <td>0</td>\n      <td>0</td>\n      <td>...</td>\n      <td>0</td>\n      <td>0</td>\n      <td>0</td>\n      <td>0</td>\n      <td>0</td>\n      <td>0</td>\n      <td>0</td>\n      <td>0</td>\n      <td>0</td>\n      <td>M1B</td>\n    </tr>\n    <tr>\n      <th>2</th>\n      <td>0</td>\n      <td>0</td>\n      <td>0</td>\n      <td>0</td>\n      <td>0</td>\n      <td>0</td>\n      <td>0</td>\n      <td>0</td>\n      <td>0</td>\n      <td>0</td>\n      <td>...</td>\n      <td>0</td>\n      <td>0</td>\n      <td>0</td>\n      <td>0</td>\n      <td>0</td>\n      <td>0</td>\n      <td>0</td>\n      <td>0</td>\n      <td>0</td>\n      <td>M1B</td>\n    </tr>\n    <tr>\n      <th>3</th>\n      <td>0</td>\n      <td>0</td>\n      <td>0</td>\n      <td>0</td>\n      <td>0</td>\n      <td>0</td>\n      <td>0</td>\n      <td>0</td>\n      <td>0</td>\n      <td>0</td>\n      <td>...</td>\n      <td>0</td>\n      <td>0</td>\n      <td>0</td>\n      <td>0</td>\n      <td>0</td>\n      <td>0</td>\n      <td>0</td>\n      <td>0</td>\n      <td>0</td>\n      <td>M1B</td>\n    </tr>\n    <tr>\n      <th>4</th>\n      <td>0</td>\n      <td>0</td>\n      <td>0</td>\n      <td>0</td>\n      <td>0</td>\n      <td>0</td>\n      <td>0</td>\n      <td>0</td>\n      <td>0</td>\n      <td>0</td>\n      <td>...</td>\n      <td>0</td>\n      <td>0</td>\n      <td>0</td>\n      <td>0</td>\n      <td>0</td>\n      <td>0</td>\n      <td>0</td>\n      <td>0</td>\n      <td>0</td>\n      <td>M1B</td>\n    </tr>\n  </tbody>\n</table>\n<p>5 rows \u00d7 330 columns</p>\n</div>",
                        "text/plain": "   Accessories Store  Afghan Restaurant  Airport  Airport Lounge  \\\n0                  0                  0        0               0   \n1                  0                  0        0               0   \n2                  0                  0        0               0   \n3                  0                  0        0               0   \n4                  0                  0        0               0   \n\n   American Restaurant  Amphitheater  Animal Shelter  Antique Shop  Aquarium  \\\n0                    0             0               0             0         0   \n1                    0             0               0             0         0   \n2                    0             0               0             0         0   \n3                    0             0               0             0         0   \n4                    0             0               0             0         0   \n\n   Art Gallery  ...  Vietnamese Restaurant  Warehouse Store  Whisky Bar  \\\n0            0  ...                      0                0           0   \n1            0  ...                      0                0           0   \n2            0  ...                      0                0           0   \n3            0  ...                      0                0           0   \n4            0  ...                      0                0           0   \n\n   Wine Bar  Wine Shop  Wings Joint  Women's Store  Yoga Studio  Zoo  \\\n0         0          0            0              0            0    0   \n1         0          0            0              0            0    0   \n2         0          0            0              0            0    0   \n3         0          0            0              0            0    0   \n4         0          0            0              0            0    0   \n\n   Postal Code  \n0          M1B  \n1          M1B  \n2          M1B  \n3          M1B  \n4          M1B  \n\n[5 rows x 330 columns]"
                    },
                    "execution_count": 92,
                    "metadata": {},
                    "output_type": "execute_result"
                }
            ],
            "source": "#one hot encoding\ntoronto_onehot = pd.get_dummies(toronto_venues[['Venue Category']], prefix=\"\", prefix_sep=\"\")\n\n# add neighborhood / postal code column back to dataframe\ntoronto_onehot['Postal Code'] = toronto_venues['Neighborhood'] \n\n# move neighborhood column to the first column\n#fixed_columns = [toronto_onehot.columns[-1]] + list(toronto_onehot.columns[:-1])\n#toronto_onehot = toronto_onehot[fixed_columns]\n\ntoronto_onehot.head()"
        },
        {
            "cell_type": "code",
            "execution_count": 93,
            "metadata": {},
            "outputs": [
                {
                    "data": {
                        "text/plain": "(4916, 330)"
                    },
                    "execution_count": 93,
                    "metadata": {},
                    "output_type": "execute_result"
                }
            ],
            "source": "toronto_onehot.shape"
        },
        {
            "cell_type": "code",
            "execution_count": 94,
            "metadata": {},
            "outputs": [
                {
                    "data": {
                        "text/html": "<div>\n<style scoped>\n    .dataframe tbody tr th:only-of-type {\n        vertical-align: middle;\n    }\n\n    .dataframe tbody tr th {\n        vertical-align: top;\n    }\n\n    .dataframe thead th {\n        text-align: right;\n    }\n</style>\n<table border=\"1\" class=\"dataframe\">\n  <thead>\n    <tr style=\"text-align: right;\">\n      <th></th>\n      <th>Postal Code</th>\n      <th>Accessories Store</th>\n      <th>Afghan Restaurant</th>\n      <th>Airport</th>\n      <th>Airport Lounge</th>\n      <th>American Restaurant</th>\n      <th>Amphitheater</th>\n      <th>Animal Shelter</th>\n      <th>Antique Shop</th>\n      <th>Aquarium</th>\n      <th>...</th>\n      <th>Video Store</th>\n      <th>Vietnamese Restaurant</th>\n      <th>Warehouse Store</th>\n      <th>Whisky Bar</th>\n      <th>Wine Bar</th>\n      <th>Wine Shop</th>\n      <th>Wings Joint</th>\n      <th>Women's Store</th>\n      <th>Yoga Studio</th>\n      <th>Zoo</th>\n    </tr>\n  </thead>\n  <tbody>\n    <tr>\n      <th>0</th>\n      <td>M1B</td>\n      <td>0</td>\n      <td>0</td>\n      <td>0</td>\n      <td>0</td>\n      <td>0</td>\n      <td>0</td>\n      <td>0</td>\n      <td>0</td>\n      <td>0</td>\n      <td>...</td>\n      <td>0</td>\n      <td>0</td>\n      <td>0</td>\n      <td>0</td>\n      <td>0</td>\n      <td>0</td>\n      <td>0</td>\n      <td>0</td>\n      <td>0</td>\n      <td>0</td>\n    </tr>\n    <tr>\n      <th>1</th>\n      <td>M1B</td>\n      <td>0</td>\n      <td>0</td>\n      <td>0</td>\n      <td>0</td>\n      <td>0</td>\n      <td>0</td>\n      <td>0</td>\n      <td>0</td>\n      <td>0</td>\n      <td>...</td>\n      <td>0</td>\n      <td>0</td>\n      <td>0</td>\n      <td>0</td>\n      <td>0</td>\n      <td>0</td>\n      <td>0</td>\n      <td>0</td>\n      <td>0</td>\n      <td>0</td>\n    </tr>\n    <tr>\n      <th>2</th>\n      <td>M1B</td>\n      <td>0</td>\n      <td>0</td>\n      <td>0</td>\n      <td>0</td>\n      <td>0</td>\n      <td>0</td>\n      <td>0</td>\n      <td>0</td>\n      <td>0</td>\n      <td>...</td>\n      <td>0</td>\n      <td>0</td>\n      <td>0</td>\n      <td>0</td>\n      <td>0</td>\n      <td>0</td>\n      <td>0</td>\n      <td>0</td>\n      <td>0</td>\n      <td>0</td>\n    </tr>\n    <tr>\n      <th>3</th>\n      <td>M1B</td>\n      <td>0</td>\n      <td>0</td>\n      <td>0</td>\n      <td>0</td>\n      <td>0</td>\n      <td>0</td>\n      <td>0</td>\n      <td>0</td>\n      <td>0</td>\n      <td>...</td>\n      <td>0</td>\n      <td>0</td>\n      <td>0</td>\n      <td>0</td>\n      <td>0</td>\n      <td>0</td>\n      <td>0</td>\n      <td>0</td>\n      <td>0</td>\n      <td>0</td>\n    </tr>\n    <tr>\n      <th>4</th>\n      <td>M1B</td>\n      <td>0</td>\n      <td>0</td>\n      <td>0</td>\n      <td>0</td>\n      <td>0</td>\n      <td>0</td>\n      <td>0</td>\n      <td>0</td>\n      <td>0</td>\n      <td>...</td>\n      <td>0</td>\n      <td>0</td>\n      <td>0</td>\n      <td>0</td>\n      <td>0</td>\n      <td>0</td>\n      <td>0</td>\n      <td>0</td>\n      <td>0</td>\n      <td>0</td>\n    </tr>\n  </tbody>\n</table>\n<p>5 rows \u00d7 330 columns</p>\n</div>",
                        "text/plain": "  Postal Code  Accessories Store  Afghan Restaurant  Airport  Airport Lounge  \\\n0         M1B                  0                  0        0               0   \n1         M1B                  0                  0        0               0   \n2         M1B                  0                  0        0               0   \n3         M1B                  0                  0        0               0   \n4         M1B                  0                  0        0               0   \n\n   American Restaurant  Amphitheater  Animal Shelter  Antique Shop  Aquarium  \\\n0                    0             0               0             0         0   \n1                    0             0               0             0         0   \n2                    0             0               0             0         0   \n3                    0             0               0             0         0   \n4                    0             0               0             0         0   \n\n   ...  Video Store  Vietnamese Restaurant  Warehouse Store  Whisky Bar  \\\n0  ...            0                      0                0           0   \n1  ...            0                      0                0           0   \n2  ...            0                      0                0           0   \n3  ...            0                      0                0           0   \n4  ...            0                      0                0           0   \n\n   Wine Bar  Wine Shop  Wings Joint  Women's Store  Yoga Studio  Zoo  \n0         0          0            0              0            0    0  \n1         0          0            0              0            0    0  \n2         0          0            0              0            0    0  \n3         0          0            0              0            0    0  \n4         0          0            0              0            0    0  \n\n[5 rows x 330 columns]"
                    },
                    "execution_count": 94,
                    "metadata": {},
                    "output_type": "execute_result"
                }
            ],
            "source": "#Move Neighborhood/Postal Code to the front of the dataframe\ncols = list(toronto_onehot)\n# move the column to head of list using index, pop and insert\ncols.insert(0, cols.pop(cols.index('Postal Code')))\ncols\n# use ix to reorder\ntoronto_onehot = toronto_onehot.loc[:, cols]\ntoronto_onehot.head()"
        },
        {
            "cell_type": "code",
            "execution_count": 95,
            "metadata": {},
            "outputs": [
                {
                    "data": {
                        "text/html": "<div>\n<style scoped>\n    .dataframe tbody tr th:only-of-type {\n        vertical-align: middle;\n    }\n\n    .dataframe tbody tr th {\n        vertical-align: top;\n    }\n\n    .dataframe thead th {\n        text-align: right;\n    }\n</style>\n<table border=\"1\" class=\"dataframe\">\n  <thead>\n    <tr style=\"text-align: right;\">\n      <th></th>\n      <th>Postal Code</th>\n      <th>Accessories Store</th>\n      <th>Afghan Restaurant</th>\n      <th>Airport</th>\n      <th>Airport Lounge</th>\n      <th>American Restaurant</th>\n      <th>Amphitheater</th>\n      <th>Animal Shelter</th>\n      <th>Antique Shop</th>\n      <th>Aquarium</th>\n      <th>...</th>\n      <th>Video Store</th>\n      <th>Vietnamese Restaurant</th>\n      <th>Warehouse Store</th>\n      <th>Whisky Bar</th>\n      <th>Wine Bar</th>\n      <th>Wine Shop</th>\n      <th>Wings Joint</th>\n      <th>Women's Store</th>\n      <th>Yoga Studio</th>\n      <th>Zoo</th>\n    </tr>\n  </thead>\n  <tbody>\n    <tr>\n      <th>0</th>\n      <td>M1B</td>\n      <td>0.0</td>\n      <td>0.0</td>\n      <td>0.0</td>\n      <td>0.0</td>\n      <td>0.0</td>\n      <td>0.0</td>\n      <td>0.0</td>\n      <td>0.0</td>\n      <td>0.0</td>\n      <td>...</td>\n      <td>0.0</td>\n      <td>0.0</td>\n      <td>0.0</td>\n      <td>0.0</td>\n      <td>0.0</td>\n      <td>0.0</td>\n      <td>0.000000</td>\n      <td>0.0</td>\n      <td>0.000000</td>\n      <td>0.0</td>\n    </tr>\n    <tr>\n      <th>1</th>\n      <td>M1C</td>\n      <td>0.0</td>\n      <td>0.0</td>\n      <td>0.0</td>\n      <td>0.0</td>\n      <td>0.0</td>\n      <td>0.0</td>\n      <td>0.0</td>\n      <td>0.0</td>\n      <td>0.0</td>\n      <td>...</td>\n      <td>0.0</td>\n      <td>0.0</td>\n      <td>0.0</td>\n      <td>0.0</td>\n      <td>0.0</td>\n      <td>0.0</td>\n      <td>0.000000</td>\n      <td>0.0</td>\n      <td>0.000000</td>\n      <td>0.0</td>\n    </tr>\n    <tr>\n      <th>2</th>\n      <td>M1E</td>\n      <td>0.0</td>\n      <td>0.0</td>\n      <td>0.0</td>\n      <td>0.0</td>\n      <td>0.0</td>\n      <td>0.0</td>\n      <td>0.0</td>\n      <td>0.0</td>\n      <td>0.0</td>\n      <td>...</td>\n      <td>0.0</td>\n      <td>0.0</td>\n      <td>0.0</td>\n      <td>0.0</td>\n      <td>0.0</td>\n      <td>0.0</td>\n      <td>0.000000</td>\n      <td>0.0</td>\n      <td>0.000000</td>\n      <td>0.0</td>\n    </tr>\n    <tr>\n      <th>3</th>\n      <td>M1G</td>\n      <td>0.0</td>\n      <td>0.0</td>\n      <td>0.0</td>\n      <td>0.0</td>\n      <td>0.0</td>\n      <td>0.0</td>\n      <td>0.0</td>\n      <td>0.0</td>\n      <td>0.0</td>\n      <td>...</td>\n      <td>0.0</td>\n      <td>0.0</td>\n      <td>0.0</td>\n      <td>0.0</td>\n      <td>0.0</td>\n      <td>0.0</td>\n      <td>0.000000</td>\n      <td>0.0</td>\n      <td>0.000000</td>\n      <td>0.0</td>\n    </tr>\n    <tr>\n      <th>4</th>\n      <td>M1H</td>\n      <td>0.0</td>\n      <td>0.0</td>\n      <td>0.0</td>\n      <td>0.0</td>\n      <td>0.0</td>\n      <td>0.0</td>\n      <td>0.0</td>\n      <td>0.0</td>\n      <td>0.0</td>\n      <td>...</td>\n      <td>0.0</td>\n      <td>0.0</td>\n      <td>0.0</td>\n      <td>0.0</td>\n      <td>0.0</td>\n      <td>0.0</td>\n      <td>0.034483</td>\n      <td>0.0</td>\n      <td>0.034483</td>\n      <td>0.0</td>\n    </tr>\n  </tbody>\n</table>\n<p>5 rows \u00d7 330 columns</p>\n</div>",
                        "text/plain": "  Postal Code  Accessories Store  Afghan Restaurant  Airport  Airport Lounge  \\\n0         M1B                0.0                0.0      0.0             0.0   \n1         M1C                0.0                0.0      0.0             0.0   \n2         M1E                0.0                0.0      0.0             0.0   \n3         M1G                0.0                0.0      0.0             0.0   \n4         M1H                0.0                0.0      0.0             0.0   \n\n   American Restaurant  Amphitheater  Animal Shelter  Antique Shop  Aquarium  \\\n0                  0.0           0.0             0.0           0.0       0.0   \n1                  0.0           0.0             0.0           0.0       0.0   \n2                  0.0           0.0             0.0           0.0       0.0   \n3                  0.0           0.0             0.0           0.0       0.0   \n4                  0.0           0.0             0.0           0.0       0.0   \n\n   ...  Video Store  Vietnamese Restaurant  Warehouse Store  Whisky Bar  \\\n0  ...          0.0                    0.0              0.0         0.0   \n1  ...          0.0                    0.0              0.0         0.0   \n2  ...          0.0                    0.0              0.0         0.0   \n3  ...          0.0                    0.0              0.0         0.0   \n4  ...          0.0                    0.0              0.0         0.0   \n\n   Wine Bar  Wine Shop  Wings Joint  Women's Store  Yoga Studio  Zoo  \n0       0.0        0.0     0.000000            0.0     0.000000  0.0  \n1       0.0        0.0     0.000000            0.0     0.000000  0.0  \n2       0.0        0.0     0.000000            0.0     0.000000  0.0  \n3       0.0        0.0     0.000000            0.0     0.000000  0.0  \n4       0.0        0.0     0.034483            0.0     0.034483  0.0  \n\n[5 rows x 330 columns]"
                    },
                    "execution_count": 95,
                    "metadata": {},
                    "output_type": "execute_result"
                }
            ],
            "source": "# Next, we'll group rows by neighborhood and by taking the mean of the frequency of occurrence of each category\n#This will show us how prevelant each venue type is in each \"neighborhood\"\ntoronto_grouped = toronto_onehot.groupby('Postal Code').mean().reset_index()\ntoronto_grouped.head()"
        },
        {
            "cell_type": "code",
            "execution_count": 96,
            "metadata": {},
            "outputs": [],
            "source": "#function to sort the venues in descending order based on how prevalent they are\ndef return_most_common_venues(row, num_top_venues):\n    row_categories = row.iloc[1:]\n    row_categories_sorted = row_categories.sort_values(ascending=False)\n    \n    return row_categories_sorted.index.values[0:num_top_venues]"
        },
        {
            "cell_type": "code",
            "execution_count": 108,
            "metadata": {},
            "outputs": [
                {
                    "data": {
                        "text/html": "<div>\n<style scoped>\n    .dataframe tbody tr th:only-of-type {\n        vertical-align: middle;\n    }\n\n    .dataframe tbody tr th {\n        vertical-align: top;\n    }\n\n    .dataframe thead th {\n        text-align: right;\n    }\n</style>\n<table border=\"1\" class=\"dataframe\">\n  <thead>\n    <tr style=\"text-align: right;\">\n      <th></th>\n      <th>Postal Code</th>\n      <th>1st Most Common Venue</th>\n      <th>2nd Most Common Venue</th>\n      <th>3rd Most Common Venue</th>\n      <th>4th Most Common Venue</th>\n      <th>5th Most Common Venue</th>\n      <th>6th Most Common Venue</th>\n      <th>7th Most Common Venue</th>\n      <th>8th Most Common Venue</th>\n      <th>9th Most Common Venue</th>\n      <th>10th Most Common Venue</th>\n    </tr>\n  </thead>\n  <tbody>\n    <tr>\n      <th>0</th>\n      <td>M1B</td>\n      <td>Fast Food Restaurant</td>\n      <td>Trail</td>\n      <td>Coffee Shop</td>\n      <td>Bank</td>\n      <td>Restaurant</td>\n      <td>Chinese Restaurant</td>\n      <td>Bakery</td>\n      <td>Paper / Office Supplies Store</td>\n      <td>Caribbean Restaurant</td>\n      <td>Greek Restaurant</td>\n    </tr>\n    <tr>\n      <th>1</th>\n      <td>M1C</td>\n      <td>Italian Restaurant</td>\n      <td>Breakfast Spot</td>\n      <td>Burger Joint</td>\n      <td>Park</td>\n      <td>Playground</td>\n      <td>Zoo</td>\n      <td>Electronics Store</td>\n      <td>Elementary School</td>\n      <td>Empanada Restaurant</td>\n      <td>Ethiopian Restaurant</td>\n    </tr>\n    <tr>\n      <th>2</th>\n      <td>M1E</td>\n      <td>Pizza Place</td>\n      <td>Fast Food Restaurant</td>\n      <td>Bank</td>\n      <td>Coffee Shop</td>\n      <td>Burger Joint</td>\n      <td>Greek Restaurant</td>\n      <td>Liquor Store</td>\n      <td>Sandwich Place</td>\n      <td>Supermarket</td>\n      <td>Juice Bar</td>\n    </tr>\n    <tr>\n      <th>3</th>\n      <td>M1G</td>\n      <td>Park</td>\n      <td>Coffee Shop</td>\n      <td>Mobile Phone Shop</td>\n      <td>Indian Restaurant</td>\n      <td>Fast Food Restaurant</td>\n      <td>Pharmacy</td>\n      <td>Chinese Restaurant</td>\n      <td>Ethiopian Restaurant</td>\n      <td>Dumpling Restaurant</td>\n      <td>Eastern European Restaurant</td>\n    </tr>\n    <tr>\n      <th>4</th>\n      <td>M1H</td>\n      <td>Coffee Shop</td>\n      <td>Bakery</td>\n      <td>Gas Station</td>\n      <td>Bank</td>\n      <td>Indian Restaurant</td>\n      <td>Athletics &amp; Sports</td>\n      <td>Chinese Restaurant</td>\n      <td>Thai Restaurant</td>\n      <td>Fried Chicken Joint</td>\n      <td>Grocery Store</td>\n    </tr>\n  </tbody>\n</table>\n</div>",
                        "text/plain": "  Postal Code 1st Most Common Venue 2nd Most Common Venue  \\\n0         M1B  Fast Food Restaurant                 Trail   \n1         M1C    Italian Restaurant        Breakfast Spot   \n2         M1E           Pizza Place  Fast Food Restaurant   \n3         M1G                  Park           Coffee Shop   \n4         M1H           Coffee Shop                Bakery   \n\n  3rd Most Common Venue 4th Most Common Venue 5th Most Common Venue  \\\n0           Coffee Shop                  Bank            Restaurant   \n1          Burger Joint                  Park            Playground   \n2                  Bank           Coffee Shop          Burger Joint   \n3     Mobile Phone Shop     Indian Restaurant  Fast Food Restaurant   \n4           Gas Station                  Bank     Indian Restaurant   \n\n  6th Most Common Venue 7th Most Common Venue          8th Most Common Venue  \\\n0    Chinese Restaurant                Bakery  Paper / Office Supplies Store   \n1                   Zoo     Electronics Store              Elementary School   \n2      Greek Restaurant          Liquor Store                 Sandwich Place   \n3              Pharmacy    Chinese Restaurant           Ethiopian Restaurant   \n4    Athletics & Sports    Chinese Restaurant                Thai Restaurant   \n\n  9th Most Common Venue       10th Most Common Venue  \n0  Caribbean Restaurant             Greek Restaurant  \n1   Empanada Restaurant         Ethiopian Restaurant  \n2           Supermarket                    Juice Bar  \n3   Dumpling Restaurant  Eastern European Restaurant  \n4   Fried Chicken Joint                Grocery Store  "
                    },
                    "execution_count": 108,
                    "metadata": {},
                    "output_type": "execute_result"
                }
            ],
            "source": "#create a dataframe to display the top 10 venues of each neighborhood\nnum_top_venues = 10\n\nindicators = ['st', 'nd', 'rd']\n\n# create columns according to number of top venues\ncolumns = ['Postal Code']\nfor ind in np.arange(num_top_venues):\n    try:\n        columns.append('{}{} Most Common Venue'.format(ind+1, indicators[ind]))\n    except:\n        columns.append('{}th Most Common Venue'.format(ind+1))\n\n# create a new dataframe\nneighborhoods_venues_sorted = pd.DataFrame(columns=columns)\nneighborhoods_venues_sorted['Postal Code'] = toronto_grouped['Postal Code']\n\n\nfor ind in np.arange(toronto_grouped.shape[0]):\n    neighborhoods_venues_sorted.iloc[ind, 1:] = return_most_common_venues(toronto_grouped.iloc[ind, :], num_top_venues)\n\nneighborhoods_venues_sorted.head()"
        },
        {
            "cell_type": "markdown",
            "metadata": {},
            "source": "We can use the above dataframe for our K-means clustering algorithm"
        },
        {
            "cell_type": "markdown",
            "metadata": {},
            "source": "# K Means Clustering"
        },
        {
            "cell_type": "code",
            "execution_count": 109,
            "metadata": {},
            "outputs": [
                {
                    "data": {
                        "text/plain": "array([5, 7, 0, 0, 5, 0, 5, 0, 0, 3], dtype=int32)"
                    },
                    "execution_count": 109,
                    "metadata": {},
                    "output_type": "execute_result"
                }
            ],
            "source": "from sklearn.cluster import KMeans\nkclusters = 8\n\ntoronto_grouped_clustering = toronto_grouped.drop('Postal Code', 1)\n\n# run k-means clustering\nkmeans = KMeans(n_clusters=kclusters, random_state=0).fit(toronto_grouped_clustering)\n\n# check cluster labels generated for each row in the dataframe\nkmeans.labels_[0:10] "
        },
        {
            "cell_type": "code",
            "execution_count": 111,
            "metadata": {},
            "outputs": [],
            "source": "# add clustering labels to our sorted venues dataframe\nneighborhoods_venues_sorted.insert(0, 'Cluster Labels', kmeans.labels_)"
        },
        {
            "cell_type": "code",
            "execution_count": 112,
            "metadata": {},
            "outputs": [
                {
                    "data": {
                        "text/html": "<div>\n<style scoped>\n    .dataframe tbody tr th:only-of-type {\n        vertical-align: middle;\n    }\n\n    .dataframe tbody tr th {\n        vertical-align: top;\n    }\n\n    .dataframe thead th {\n        text-align: right;\n    }\n</style>\n<table border=\"1\" class=\"dataframe\">\n  <thead>\n    <tr style=\"text-align: right;\">\n      <th></th>\n      <th>Cluster Labels</th>\n      <th>Postal Code</th>\n      <th>1st Most Common Venue</th>\n      <th>2nd Most Common Venue</th>\n      <th>3rd Most Common Venue</th>\n      <th>4th Most Common Venue</th>\n      <th>5th Most Common Venue</th>\n      <th>6th Most Common Venue</th>\n      <th>7th Most Common Venue</th>\n      <th>8th Most Common Venue</th>\n      <th>9th Most Common Venue</th>\n      <th>10th Most Common Venue</th>\n    </tr>\n  </thead>\n  <tbody>\n    <tr>\n      <th>0</th>\n      <td>5</td>\n      <td>M1B</td>\n      <td>Fast Food Restaurant</td>\n      <td>Trail</td>\n      <td>Coffee Shop</td>\n      <td>Bank</td>\n      <td>Restaurant</td>\n      <td>Chinese Restaurant</td>\n      <td>Bakery</td>\n      <td>Paper / Office Supplies Store</td>\n      <td>Caribbean Restaurant</td>\n      <td>Greek Restaurant</td>\n    </tr>\n    <tr>\n      <th>1</th>\n      <td>7</td>\n      <td>M1C</td>\n      <td>Italian Restaurant</td>\n      <td>Breakfast Spot</td>\n      <td>Burger Joint</td>\n      <td>Park</td>\n      <td>Playground</td>\n      <td>Zoo</td>\n      <td>Electronics Store</td>\n      <td>Elementary School</td>\n      <td>Empanada Restaurant</td>\n      <td>Ethiopian Restaurant</td>\n    </tr>\n    <tr>\n      <th>2</th>\n      <td>0</td>\n      <td>M1E</td>\n      <td>Pizza Place</td>\n      <td>Fast Food Restaurant</td>\n      <td>Bank</td>\n      <td>Coffee Shop</td>\n      <td>Burger Joint</td>\n      <td>Greek Restaurant</td>\n      <td>Liquor Store</td>\n      <td>Sandwich Place</td>\n      <td>Supermarket</td>\n      <td>Juice Bar</td>\n    </tr>\n    <tr>\n      <th>3</th>\n      <td>0</td>\n      <td>M1G</td>\n      <td>Park</td>\n      <td>Coffee Shop</td>\n      <td>Mobile Phone Shop</td>\n      <td>Indian Restaurant</td>\n      <td>Fast Food Restaurant</td>\n      <td>Pharmacy</td>\n      <td>Chinese Restaurant</td>\n      <td>Ethiopian Restaurant</td>\n      <td>Dumpling Restaurant</td>\n      <td>Eastern European Restaurant</td>\n    </tr>\n    <tr>\n      <th>4</th>\n      <td>5</td>\n      <td>M1H</td>\n      <td>Coffee Shop</td>\n      <td>Bakery</td>\n      <td>Gas Station</td>\n      <td>Bank</td>\n      <td>Indian Restaurant</td>\n      <td>Athletics &amp; Sports</td>\n      <td>Chinese Restaurant</td>\n      <td>Thai Restaurant</td>\n      <td>Fried Chicken Joint</td>\n      <td>Grocery Store</td>\n    </tr>\n    <tr>\n      <th>5</th>\n      <td>0</td>\n      <td>M1J</td>\n      <td>Ice Cream Shop</td>\n      <td>Convenience Store</td>\n      <td>Coffee Shop</td>\n      <td>Sandwich Place</td>\n      <td>Fast Food Restaurant</td>\n      <td>Pizza Place</td>\n      <td>Bowling Alley</td>\n      <td>Restaurant</td>\n      <td>Grocery Store</td>\n      <td>Train Station</td>\n    </tr>\n    <tr>\n      <th>6</th>\n      <td>5</td>\n      <td>M1K</td>\n      <td>Chinese Restaurant</td>\n      <td>Coffee Shop</td>\n      <td>Fast Food Restaurant</td>\n      <td>Discount Store</td>\n      <td>Grocery Store</td>\n      <td>Bank</td>\n      <td>Asian Restaurant</td>\n      <td>Light Rail Station</td>\n      <td>Sandwich Place</td>\n      <td>Pharmacy</td>\n    </tr>\n    <tr>\n      <th>7</th>\n      <td>0</td>\n      <td>M1L</td>\n      <td>Intersection</td>\n      <td>Coffee Shop</td>\n      <td>Bus Line</td>\n      <td>Convenience Store</td>\n      <td>Bakery</td>\n      <td>Park</td>\n      <td>Mexican Restaurant</td>\n      <td>Fast Food Restaurant</td>\n      <td>Sandwich Place</td>\n      <td>Beer Store</td>\n    </tr>\n    <tr>\n      <th>8</th>\n      <td>0</td>\n      <td>M1M</td>\n      <td>Pizza Place</td>\n      <td>Ice Cream Shop</td>\n      <td>Beach</td>\n      <td>Sports Bar</td>\n      <td>Cajun / Creole Restaurant</td>\n      <td>Burger Joint</td>\n      <td>Park</td>\n      <td>Hardware Store</td>\n      <td>Electronics Store</td>\n      <td>Elementary School</td>\n    </tr>\n    <tr>\n      <th>9</th>\n      <td>3</td>\n      <td>M1N</td>\n      <td>Park</td>\n      <td>Restaurant</td>\n      <td>Caf\u00e9</td>\n      <td>Skating Rink</td>\n      <td>Thai Restaurant</td>\n      <td>General Entertainment</td>\n      <td>Diner</td>\n      <td>Dessert Shop</td>\n      <td>Gym</td>\n      <td>Photography Studio</td>\n    </tr>\n  </tbody>\n</table>\n</div>",
                        "text/plain": "   Cluster Labels Postal Code 1st Most Common Venue 2nd Most Common Venue  \\\n0               5         M1B  Fast Food Restaurant                 Trail   \n1               7         M1C    Italian Restaurant        Breakfast Spot   \n2               0         M1E           Pizza Place  Fast Food Restaurant   \n3               0         M1G                  Park           Coffee Shop   \n4               5         M1H           Coffee Shop                Bakery   \n5               0         M1J        Ice Cream Shop     Convenience Store   \n6               5         M1K    Chinese Restaurant           Coffee Shop   \n7               0         M1L          Intersection           Coffee Shop   \n8               0         M1M           Pizza Place        Ice Cream Shop   \n9               3         M1N                  Park            Restaurant   \n\n  3rd Most Common Venue 4th Most Common Venue      5th Most Common Venue  \\\n0           Coffee Shop                  Bank                 Restaurant   \n1          Burger Joint                  Park                 Playground   \n2                  Bank           Coffee Shop               Burger Joint   \n3     Mobile Phone Shop     Indian Restaurant       Fast Food Restaurant   \n4           Gas Station                  Bank          Indian Restaurant   \n5           Coffee Shop        Sandwich Place       Fast Food Restaurant   \n6  Fast Food Restaurant        Discount Store              Grocery Store   \n7              Bus Line     Convenience Store                     Bakery   \n8                 Beach            Sports Bar  Cajun / Creole Restaurant   \n9                  Caf\u00e9          Skating Rink            Thai Restaurant   \n\n   6th Most Common Venue 7th Most Common Venue          8th Most Common Venue  \\\n0     Chinese Restaurant                Bakery  Paper / Office Supplies Store   \n1                    Zoo     Electronics Store              Elementary School   \n2       Greek Restaurant          Liquor Store                 Sandwich Place   \n3               Pharmacy    Chinese Restaurant           Ethiopian Restaurant   \n4     Athletics & Sports    Chinese Restaurant                Thai Restaurant   \n5            Pizza Place         Bowling Alley                     Restaurant   \n6                   Bank      Asian Restaurant             Light Rail Station   \n7                   Park    Mexican Restaurant           Fast Food Restaurant   \n8           Burger Joint                  Park                 Hardware Store   \n9  General Entertainment                 Diner                   Dessert Shop   \n\n  9th Most Common Venue       10th Most Common Venue  \n0  Caribbean Restaurant             Greek Restaurant  \n1   Empanada Restaurant         Ethiopian Restaurant  \n2           Supermarket                    Juice Bar  \n3   Dumpling Restaurant  Eastern European Restaurant  \n4   Fried Chicken Joint                Grocery Store  \n5         Grocery Store                Train Station  \n6        Sandwich Place                     Pharmacy  \n7        Sandwich Place                   Beer Store  \n8     Electronics Store            Elementary School  \n9                   Gym           Photography Studio  "
                    },
                    "execution_count": 112,
                    "metadata": {},
                    "output_type": "execute_result"
                }
            ],
            "source": "\n#neighborhoods_venues_sorted = neighborhoods_venues_sorted.groupby('Cluster Labels', axis = 1)\nneighborhoods_venues_sorted.head(10)"
        },
        {
            "cell_type": "code",
            "execution_count": 59,
            "metadata": {},
            "outputs": [
                {
                    "data": {
                        "text/plain": "pandas.core.frame.DataFrame"
                    },
                    "execution_count": 59,
                    "metadata": {},
                    "output_type": "execute_result"
                }
            ],
            "source": "#neighborhoods_venues_sorted['Cluster Labels'] = neighborhoods_venues_sorted['Cluster Labels'].astype('int')"
        },
        {
            "cell_type": "markdown",
            "metadata": {},
            "source": "Now lets review the characterstics of each cluster to see which most closely aligns with what Apartments20 is looking for"
        },
        {
            "cell_type": "code",
            "execution_count": 113,
            "metadata": {},
            "outputs": [
                {
                    "data": {
                        "text/html": "<div>\n<style scoped>\n    .dataframe tbody tr th:only-of-type {\n        vertical-align: middle;\n    }\n\n    .dataframe tbody tr th {\n        vertical-align: top;\n    }\n\n    .dataframe thead th {\n        text-align: right;\n    }\n</style>\n<table border=\"1\" class=\"dataframe\">\n  <thead>\n    <tr style=\"text-align: right;\">\n      <th></th>\n      <th>Cluster Labels</th>\n      <th>Postal Code</th>\n      <th>1st Most Common Venue</th>\n      <th>2nd Most Common Venue</th>\n      <th>3rd Most Common Venue</th>\n      <th>4th Most Common Venue</th>\n      <th>5th Most Common Venue</th>\n      <th>6th Most Common Venue</th>\n      <th>7th Most Common Venue</th>\n      <th>8th Most Common Venue</th>\n      <th>9th Most Common Venue</th>\n      <th>10th Most Common Venue</th>\n    </tr>\n  </thead>\n  <tbody>\n    <tr>\n      <th>2</th>\n      <td>0</td>\n      <td>M1E</td>\n      <td>Pizza Place</td>\n      <td>Fast Food Restaurant</td>\n      <td>Bank</td>\n      <td>Coffee Shop</td>\n      <td>Burger Joint</td>\n      <td>Greek Restaurant</td>\n      <td>Liquor Store</td>\n      <td>Sandwich Place</td>\n      <td>Supermarket</td>\n      <td>Juice Bar</td>\n    </tr>\n    <tr>\n      <th>3</th>\n      <td>0</td>\n      <td>M1G</td>\n      <td>Park</td>\n      <td>Coffee Shop</td>\n      <td>Mobile Phone Shop</td>\n      <td>Indian Restaurant</td>\n      <td>Fast Food Restaurant</td>\n      <td>Pharmacy</td>\n      <td>Chinese Restaurant</td>\n      <td>Ethiopian Restaurant</td>\n      <td>Dumpling Restaurant</td>\n      <td>Eastern European Restaurant</td>\n    </tr>\n    <tr>\n      <th>5</th>\n      <td>0</td>\n      <td>M1J</td>\n      <td>Ice Cream Shop</td>\n      <td>Convenience Store</td>\n      <td>Coffee Shop</td>\n      <td>Sandwich Place</td>\n      <td>Fast Food Restaurant</td>\n      <td>Pizza Place</td>\n      <td>Bowling Alley</td>\n      <td>Restaurant</td>\n      <td>Grocery Store</td>\n      <td>Train Station</td>\n    </tr>\n    <tr>\n      <th>7</th>\n      <td>0</td>\n      <td>M1L</td>\n      <td>Intersection</td>\n      <td>Coffee Shop</td>\n      <td>Bus Line</td>\n      <td>Convenience Store</td>\n      <td>Bakery</td>\n      <td>Park</td>\n      <td>Mexican Restaurant</td>\n      <td>Fast Food Restaurant</td>\n      <td>Sandwich Place</td>\n      <td>Beer Store</td>\n    </tr>\n    <tr>\n      <th>8</th>\n      <td>0</td>\n      <td>M1M</td>\n      <td>Pizza Place</td>\n      <td>Ice Cream Shop</td>\n      <td>Beach</td>\n      <td>Sports Bar</td>\n      <td>Cajun / Creole Restaurant</td>\n      <td>Burger Joint</td>\n      <td>Park</td>\n      <td>Hardware Store</td>\n      <td>Electronics Store</td>\n      <td>Elementary School</td>\n    </tr>\n  </tbody>\n</table>\n</div>",
                        "text/plain": "   Cluster Labels Postal Code 1st Most Common Venue 2nd Most Common Venue  \\\n2               0         M1E           Pizza Place  Fast Food Restaurant   \n3               0         M1G                  Park           Coffee Shop   \n5               0         M1J        Ice Cream Shop     Convenience Store   \n7               0         M1L          Intersection           Coffee Shop   \n8               0         M1M           Pizza Place        Ice Cream Shop   \n\n  3rd Most Common Venue 4th Most Common Venue      5th Most Common Venue  \\\n2                  Bank           Coffee Shop               Burger Joint   \n3     Mobile Phone Shop     Indian Restaurant       Fast Food Restaurant   \n5           Coffee Shop        Sandwich Place       Fast Food Restaurant   \n7              Bus Line     Convenience Store                     Bakery   \n8                 Beach            Sports Bar  Cajun / Creole Restaurant   \n\n  6th Most Common Venue 7th Most Common Venue 8th Most Common Venue  \\\n2      Greek Restaurant          Liquor Store        Sandwich Place   \n3              Pharmacy    Chinese Restaurant  Ethiopian Restaurant   \n5           Pizza Place         Bowling Alley            Restaurant   \n7                  Park    Mexican Restaurant  Fast Food Restaurant   \n8          Burger Joint                  Park        Hardware Store   \n\n  9th Most Common Venue       10th Most Common Venue  \n2           Supermarket                    Juice Bar  \n3   Dumpling Restaurant  Eastern European Restaurant  \n5         Grocery Store                Train Station  \n7        Sandwich Place                   Beer Store  \n8     Electronics Store            Elementary School  "
                    },
                    "execution_count": 113,
                    "metadata": {},
                    "output_type": "execute_result"
                }
            ],
            "source": "cluster_0 = neighborhoods_venues_sorted[neighborhoods_venues_sorted['Cluster Labels'] == 0]\ncluster_0.head()"
        },
        {
            "cell_type": "code",
            "execution_count": 114,
            "metadata": {},
            "outputs": [
                {
                    "data": {
                        "text/html": "<div>\n<style scoped>\n    .dataframe tbody tr th:only-of-type {\n        vertical-align: middle;\n    }\n\n    .dataframe tbody tr th {\n        vertical-align: top;\n    }\n\n    .dataframe thead th {\n        text-align: right;\n    }\n</style>\n<table border=\"1\" class=\"dataframe\">\n  <thead>\n    <tr style=\"text-align: right;\">\n      <th></th>\n      <th>Cluster Labels</th>\n      <th>Postal Code</th>\n      <th>1st Most Common Venue</th>\n      <th>2nd Most Common Venue</th>\n      <th>3rd Most Common Venue</th>\n      <th>4th Most Common Venue</th>\n      <th>5th Most Common Venue</th>\n      <th>6th Most Common Venue</th>\n      <th>7th Most Common Venue</th>\n      <th>8th Most Common Venue</th>\n      <th>9th Most Common Venue</th>\n      <th>10th Most Common Venue</th>\n    </tr>\n  </thead>\n  <tbody>\n    <tr>\n      <th>19</th>\n      <td>1</td>\n      <td>M2L</td>\n      <td>Park</td>\n      <td>Pool</td>\n      <td>Farm</td>\n      <td>Dumpling Restaurant</td>\n      <td>Eastern European Restaurant</td>\n      <td>Electronics Store</td>\n      <td>Elementary School</td>\n      <td>Empanada Restaurant</td>\n      <td>Ethiopian Restaurant</td>\n      <td>Event Space</td>\n    </tr>\n  </tbody>\n</table>\n</div>",
                        "text/plain": "    Cluster Labels Postal Code 1st Most Common Venue 2nd Most Common Venue  \\\n19               1         M2L                  Park                  Pool   \n\n   3rd Most Common Venue 4th Most Common Venue        5th Most Common Venue  \\\n19                  Farm   Dumpling Restaurant  Eastern European Restaurant   \n\n   6th Most Common Venue 7th Most Common Venue 8th Most Common Venue  \\\n19     Electronics Store     Elementary School   Empanada Restaurant   \n\n   9th Most Common Venue 10th Most Common Venue  \n19  Ethiopian Restaurant            Event Space  "
                    },
                    "execution_count": 114,
                    "metadata": {},
                    "output_type": "execute_result"
                }
            ],
            "source": "cluster_1 = neighborhoods_venues_sorted[neighborhoods_venues_sorted['Cluster Labels'] == 1]\ncluster_1.head(10)"
        },
        {
            "cell_type": "code",
            "execution_count": 115,
            "metadata": {},
            "outputs": [
                {
                    "data": {
                        "text/html": "<div>\n<style scoped>\n    .dataframe tbody tr th:only-of-type {\n        vertical-align: middle;\n    }\n\n    .dataframe tbody tr th {\n        vertical-align: top;\n    }\n\n    .dataframe thead th {\n        text-align: right;\n    }\n</style>\n<table border=\"1\" class=\"dataframe\">\n  <thead>\n    <tr style=\"text-align: right;\">\n      <th></th>\n      <th>Cluster Labels</th>\n      <th>Postal Code</th>\n      <th>1st Most Common Venue</th>\n      <th>2nd Most Common Venue</th>\n      <th>3rd Most Common Venue</th>\n      <th>4th Most Common Venue</th>\n      <th>5th Most Common Venue</th>\n      <th>6th Most Common Venue</th>\n      <th>7th Most Common Venue</th>\n      <th>8th Most Common Venue</th>\n      <th>9th Most Common Venue</th>\n      <th>10th Most Common Venue</th>\n    </tr>\n  </thead>\n  <tbody>\n    <tr>\n      <th>31</th>\n      <td>2</td>\n      <td>M3M</td>\n      <td>Vietnamese Restaurant</td>\n      <td>Baseball Field</td>\n      <td>Restaurant</td>\n      <td>Zoo</td>\n      <td>Farm</td>\n      <td>Eastern European Restaurant</td>\n      <td>Electronics Store</td>\n      <td>Elementary School</td>\n      <td>Empanada Restaurant</td>\n      <td>Ethiopian Restaurant</td>\n    </tr>\n  </tbody>\n</table>\n</div>",
                        "text/plain": "    Cluster Labels Postal Code  1st Most Common Venue 2nd Most Common Venue  \\\n31               2         M3M  Vietnamese Restaurant        Baseball Field   \n\n   3rd Most Common Venue 4th Most Common Venue 5th Most Common Venue  \\\n31            Restaurant                   Zoo                  Farm   \n\n          6th Most Common Venue 7th Most Common Venue 8th Most Common Venue  \\\n31  Eastern European Restaurant     Electronics Store     Elementary School   \n\n   9th Most Common Venue 10th Most Common Venue  \n31   Empanada Restaurant   Ethiopian Restaurant  "
                    },
                    "execution_count": 115,
                    "metadata": {},
                    "output_type": "execute_result"
                }
            ],
            "source": "cluster_2 = neighborhoods_venues_sorted[neighborhoods_venues_sorted['Cluster Labels'] == 2]\ncluster_2.head()"
        },
        {
            "cell_type": "code",
            "execution_count": 116,
            "metadata": {},
            "outputs": [
                {
                    "data": {
                        "text/html": "<div>\n<style scoped>\n    .dataframe tbody tr th:only-of-type {\n        vertical-align: middle;\n    }\n\n    .dataframe tbody tr th {\n        vertical-align: top;\n    }\n\n    .dataframe thead th {\n        text-align: right;\n    }\n</style>\n<table border=\"1\" class=\"dataframe\">\n  <thead>\n    <tr style=\"text-align: right;\">\n      <th></th>\n      <th>Cluster Labels</th>\n      <th>Postal Code</th>\n      <th>1st Most Common Venue</th>\n      <th>2nd Most Common Venue</th>\n      <th>3rd Most Common Venue</th>\n      <th>4th Most Common Venue</th>\n      <th>5th Most Common Venue</th>\n      <th>6th Most Common Venue</th>\n      <th>7th Most Common Venue</th>\n      <th>8th Most Common Venue</th>\n      <th>9th Most Common Venue</th>\n      <th>10th Most Common Venue</th>\n    </tr>\n  </thead>\n  <tbody>\n    <tr>\n      <th>9</th>\n      <td>3</td>\n      <td>M1N</td>\n      <td>Park</td>\n      <td>Restaurant</td>\n      <td>Caf\u00e9</td>\n      <td>Skating Rink</td>\n      <td>Thai Restaurant</td>\n      <td>General Entertainment</td>\n      <td>Diner</td>\n      <td>Dessert Shop</td>\n      <td>Gym</td>\n      <td>Photography Studio</td>\n    </tr>\n    <tr>\n      <th>29</th>\n      <td>3</td>\n      <td>M3K</td>\n      <td>Turkish Restaurant</td>\n      <td>Coffee Shop</td>\n      <td>Other Repair Shop</td>\n      <td>Sandwich Place</td>\n      <td>Chinese Restaurant</td>\n      <td>Liquor Store</td>\n      <td>Electronics Store</td>\n      <td>Italian Restaurant</td>\n      <td>Park</td>\n      <td>Gym</td>\n    </tr>\n    <tr>\n      <th>36</th>\n      <td>3</td>\n      <td>M4E</td>\n      <td>Pub</td>\n      <td>Coffee Shop</td>\n      <td>Beach</td>\n      <td>Pizza Place</td>\n      <td>Japanese Restaurant</td>\n      <td>Breakfast Spot</td>\n      <td>Caribbean Restaurant</td>\n      <td>Bar</td>\n      <td>Tea Room</td>\n      <td>Bakery</td>\n    </tr>\n    <tr>\n      <th>39</th>\n      <td>3</td>\n      <td>M4J</td>\n      <td>Coffee Shop</td>\n      <td>Caf\u00e9</td>\n      <td>Greek Restaurant</td>\n      <td>Pizza Place</td>\n      <td>Convenience Store</td>\n      <td>Park</td>\n      <td>Bar</td>\n      <td>Beer Bar</td>\n      <td>Fast Food Restaurant</td>\n      <td>Ethiopian Restaurant</td>\n    </tr>\n    <tr>\n      <th>40</th>\n      <td>3</td>\n      <td>M4K</td>\n      <td>Greek Restaurant</td>\n      <td>Coffee Shop</td>\n      <td>Caf\u00e9</td>\n      <td>Pub</td>\n      <td>Italian Restaurant</td>\n      <td>Pizza Place</td>\n      <td>Fast Food Restaurant</td>\n      <td>Furniture / Home Store</td>\n      <td>Ramen Restaurant</td>\n      <td>Bookstore</td>\n    </tr>\n    <tr>\n      <th>41</th>\n      <td>3</td>\n      <td>M4L</td>\n      <td>Indian Restaurant</td>\n      <td>Coffee Shop</td>\n      <td>Beach</td>\n      <td>Grocery Store</td>\n      <td>Caf\u00e9</td>\n      <td>Brewery</td>\n      <td>Park</td>\n      <td>Burrito Place</td>\n      <td>Bakery</td>\n      <td>Harbor / Marina</td>\n    </tr>\n    <tr>\n      <th>42</th>\n      <td>3</td>\n      <td>M4M</td>\n      <td>Coffee Shop</td>\n      <td>Bar</td>\n      <td>Caf\u00e9</td>\n      <td>Diner</td>\n      <td>Vietnamese Restaurant</td>\n      <td>Bakery</td>\n      <td>Brewery</td>\n      <td>American Restaurant</td>\n      <td>Italian Restaurant</td>\n      <td>French Restaurant</td>\n    </tr>\n    <tr>\n      <th>43</th>\n      <td>3</td>\n      <td>M4N</td>\n      <td>Park</td>\n      <td>Bookstore</td>\n      <td>Trail</td>\n      <td>Gym / Fitness Center</td>\n      <td>Coffee Shop</td>\n      <td>College Gym</td>\n      <td>Caf\u00e9</td>\n      <td>College Quad</td>\n      <td>Fast Food Restaurant</td>\n      <td>Farmers Market</td>\n    </tr>\n    <tr>\n      <th>44</th>\n      <td>3</td>\n      <td>M4P</td>\n      <td>Coffee Shop</td>\n      <td>Italian Restaurant</td>\n      <td>Dessert Shop</td>\n      <td>Caf\u00e9</td>\n      <td>Gym</td>\n      <td>Pizza Place</td>\n      <td>Pharmacy</td>\n      <td>Sushi Restaurant</td>\n      <td>Supermarket</td>\n      <td>Restaurant</td>\n    </tr>\n    <tr>\n      <th>45</th>\n      <td>3</td>\n      <td>M4R</td>\n      <td>Coffee Shop</td>\n      <td>Italian Restaurant</td>\n      <td>Skating Rink</td>\n      <td>Diner</td>\n      <td>Mexican Restaurant</td>\n      <td>Caf\u00e9</td>\n      <td>Park</td>\n      <td>Sushi Restaurant</td>\n      <td>Bakery</td>\n      <td>Jazz Club</td>\n    </tr>\n  </tbody>\n</table>\n</div>",
                        "text/plain": "    Cluster Labels Postal Code 1st Most Common Venue 2nd Most Common Venue  \\\n9                3         M1N                  Park            Restaurant   \n29               3         M3K    Turkish Restaurant           Coffee Shop   \n36               3         M4E                   Pub           Coffee Shop   \n39               3         M4J           Coffee Shop                  Caf\u00e9   \n40               3         M4K      Greek Restaurant           Coffee Shop   \n41               3         M4L     Indian Restaurant           Coffee Shop   \n42               3         M4M           Coffee Shop                   Bar   \n43               3         M4N                  Park             Bookstore   \n44               3         M4P           Coffee Shop    Italian Restaurant   \n45               3         M4R           Coffee Shop    Italian Restaurant   \n\n   3rd Most Common Venue 4th Most Common Venue  5th Most Common Venue  \\\n9                   Caf\u00e9          Skating Rink        Thai Restaurant   \n29     Other Repair Shop        Sandwich Place     Chinese Restaurant   \n36                 Beach           Pizza Place    Japanese Restaurant   \n39      Greek Restaurant           Pizza Place      Convenience Store   \n40                  Caf\u00e9                   Pub     Italian Restaurant   \n41                 Beach         Grocery Store                   Caf\u00e9   \n42                  Caf\u00e9                 Diner  Vietnamese Restaurant   \n43                 Trail  Gym / Fitness Center            Coffee Shop   \n44          Dessert Shop                  Caf\u00e9                    Gym   \n45          Skating Rink                 Diner     Mexican Restaurant   \n\n    6th Most Common Venue 7th Most Common Venue   8th Most Common Venue  \\\n9   General Entertainment                 Diner            Dessert Shop   \n29           Liquor Store     Electronics Store      Italian Restaurant   \n36         Breakfast Spot  Caribbean Restaurant                     Bar   \n39                   Park                   Bar                Beer Bar   \n40            Pizza Place  Fast Food Restaurant  Furniture / Home Store   \n41                Brewery                  Park           Burrito Place   \n42                 Bakery               Brewery     American Restaurant   \n43            College Gym                  Caf\u00e9            College Quad   \n44            Pizza Place              Pharmacy        Sushi Restaurant   \n45                   Caf\u00e9                  Park        Sushi Restaurant   \n\n   9th Most Common Venue 10th Most Common Venue  \n9                    Gym     Photography Studio  \n29                  Park                    Gym  \n36              Tea Room                 Bakery  \n39  Fast Food Restaurant   Ethiopian Restaurant  \n40      Ramen Restaurant              Bookstore  \n41                Bakery        Harbor / Marina  \n42    Italian Restaurant      French Restaurant  \n43  Fast Food Restaurant         Farmers Market  \n44           Supermarket             Restaurant  \n45                Bakery              Jazz Club  "
                    },
                    "execution_count": 116,
                    "metadata": {},
                    "output_type": "execute_result"
                }
            ],
            "source": "cluster_3 = neighborhoods_venues_sorted[neighborhoods_venues_sorted['Cluster Labels'] == 3]\ncluster_3.head(10)"
        },
        {
            "cell_type": "code",
            "execution_count": 117,
            "metadata": {},
            "outputs": [
                {
                    "data": {
                        "text/html": "<div>\n<style scoped>\n    .dataframe tbody tr th:only-of-type {\n        vertical-align: middle;\n    }\n\n    .dataframe tbody tr th {\n        vertical-align: top;\n    }\n\n    .dataframe thead th {\n        text-align: right;\n    }\n</style>\n<table border=\"1\" class=\"dataframe\">\n  <thead>\n    <tr style=\"text-align: right;\">\n      <th></th>\n      <th>Cluster Labels</th>\n      <th>Postal Code</th>\n      <th>1st Most Common Venue</th>\n      <th>2nd Most Common Venue</th>\n      <th>3rd Most Common Venue</th>\n      <th>4th Most Common Venue</th>\n      <th>5th Most Common Venue</th>\n      <th>6th Most Common Venue</th>\n      <th>7th Most Common Venue</th>\n      <th>8th Most Common Venue</th>\n      <th>9th Most Common Venue</th>\n      <th>10th Most Common Venue</th>\n    </tr>\n  </thead>\n  <tbody>\n    <tr>\n      <th>101</th>\n      <td>4</td>\n      <td>M9W</td>\n      <td>Hotel</td>\n      <td>Moving Target</td>\n      <td>Coffee Shop</td>\n      <td>Farm</td>\n      <td>Eastern European Restaurant</td>\n      <td>Electronics Store</td>\n      <td>Elementary School</td>\n      <td>Empanada Restaurant</td>\n      <td>Ethiopian Restaurant</td>\n      <td>Event Space</td>\n    </tr>\n  </tbody>\n</table>\n</div>",
                        "text/plain": "     Cluster Labels Postal Code 1st Most Common Venue 2nd Most Common Venue  \\\n101               4         M9W                 Hotel         Moving Target   \n\n    3rd Most Common Venue 4th Most Common Venue        5th Most Common Venue  \\\n101           Coffee Shop                  Farm  Eastern European Restaurant   \n\n    6th Most Common Venue 7th Most Common Venue 8th Most Common Venue  \\\n101     Electronics Store     Elementary School   Empanada Restaurant   \n\n    9th Most Common Venue 10th Most Common Venue  \n101  Ethiopian Restaurant            Event Space  "
                    },
                    "execution_count": 117,
                    "metadata": {},
                    "output_type": "execute_result"
                }
            ],
            "source": "cluster_4 = neighborhoods_venues_sorted[neighborhoods_venues_sorted['Cluster Labels'] == 4]\ncluster_4.head()"
        },
        {
            "cell_type": "code",
            "execution_count": 118,
            "metadata": {},
            "outputs": [
                {
                    "data": {
                        "text/html": "<div>\n<style scoped>\n    .dataframe tbody tr th:only-of-type {\n        vertical-align: middle;\n    }\n\n    .dataframe tbody tr th {\n        vertical-align: top;\n    }\n\n    .dataframe thead th {\n        text-align: right;\n    }\n</style>\n<table border=\"1\" class=\"dataframe\">\n  <thead>\n    <tr style=\"text-align: right;\">\n      <th></th>\n      <th>Cluster Labels</th>\n      <th>Postal Code</th>\n      <th>1st Most Common Venue</th>\n      <th>2nd Most Common Venue</th>\n      <th>3rd Most Common Venue</th>\n      <th>4th Most Common Venue</th>\n      <th>5th Most Common Venue</th>\n      <th>6th Most Common Venue</th>\n      <th>7th Most Common Venue</th>\n      <th>8th Most Common Venue</th>\n      <th>9th Most Common Venue</th>\n      <th>10th Most Common Venue</th>\n    </tr>\n  </thead>\n  <tbody>\n    <tr>\n      <th>0</th>\n      <td>5</td>\n      <td>M1B</td>\n      <td>Fast Food Restaurant</td>\n      <td>Trail</td>\n      <td>Coffee Shop</td>\n      <td>Bank</td>\n      <td>Restaurant</td>\n      <td>Chinese Restaurant</td>\n      <td>Bakery</td>\n      <td>Paper / Office Supplies Store</td>\n      <td>Caribbean Restaurant</td>\n      <td>Greek Restaurant</td>\n    </tr>\n    <tr>\n      <th>4</th>\n      <td>5</td>\n      <td>M1H</td>\n      <td>Coffee Shop</td>\n      <td>Bakery</td>\n      <td>Gas Station</td>\n      <td>Bank</td>\n      <td>Indian Restaurant</td>\n      <td>Athletics &amp; Sports</td>\n      <td>Chinese Restaurant</td>\n      <td>Thai Restaurant</td>\n      <td>Fried Chicken Joint</td>\n      <td>Grocery Store</td>\n    </tr>\n    <tr>\n      <th>6</th>\n      <td>5</td>\n      <td>M1K</td>\n      <td>Chinese Restaurant</td>\n      <td>Coffee Shop</td>\n      <td>Fast Food Restaurant</td>\n      <td>Discount Store</td>\n      <td>Grocery Store</td>\n      <td>Bank</td>\n      <td>Asian Restaurant</td>\n      <td>Light Rail Station</td>\n      <td>Sandwich Place</td>\n      <td>Pharmacy</td>\n    </tr>\n    <tr>\n      <th>10</th>\n      <td>5</td>\n      <td>M1P</td>\n      <td>Restaurant</td>\n      <td>Coffee Shop</td>\n      <td>Pharmacy</td>\n      <td>Electronics Store</td>\n      <td>Chinese Restaurant</td>\n      <td>Furniture / Home Store</td>\n      <td>Fast Food Restaurant</td>\n      <td>Bakery</td>\n      <td>Asian Restaurant</td>\n      <td>Indian Restaurant</td>\n    </tr>\n    <tr>\n      <th>11</th>\n      <td>5</td>\n      <td>M1R</td>\n      <td>Pizza Place</td>\n      <td>Middle Eastern Restaurant</td>\n      <td>Intersection</td>\n      <td>Grocery Store</td>\n      <td>Burger Joint</td>\n      <td>Furniture / Home Store</td>\n      <td>Restaurant</td>\n      <td>Bar</td>\n      <td>Coffee Shop</td>\n      <td>Korean Restaurant</td>\n    </tr>\n  </tbody>\n</table>\n</div>",
                        "text/plain": "    Cluster Labels Postal Code 1st Most Common Venue  \\\n0                5         M1B  Fast Food Restaurant   \n4                5         M1H           Coffee Shop   \n6                5         M1K    Chinese Restaurant   \n10               5         M1P            Restaurant   \n11               5         M1R           Pizza Place   \n\n        2nd Most Common Venue 3rd Most Common Venue 4th Most Common Venue  \\\n0                       Trail           Coffee Shop                  Bank   \n4                      Bakery           Gas Station                  Bank   \n6                 Coffee Shop  Fast Food Restaurant        Discount Store   \n10                Coffee Shop              Pharmacy     Electronics Store   \n11  Middle Eastern Restaurant          Intersection         Grocery Store   \n\n   5th Most Common Venue   6th Most Common Venue 7th Most Common Venue  \\\n0             Restaurant      Chinese Restaurant                Bakery   \n4      Indian Restaurant      Athletics & Sports    Chinese Restaurant   \n6          Grocery Store                    Bank      Asian Restaurant   \n10    Chinese Restaurant  Furniture / Home Store  Fast Food Restaurant   \n11          Burger Joint  Furniture / Home Store            Restaurant   \n\n            8th Most Common Venue 9th Most Common Venue 10th Most Common Venue  \n0   Paper / Office Supplies Store  Caribbean Restaurant       Greek Restaurant  \n4                 Thai Restaurant   Fried Chicken Joint          Grocery Store  \n6              Light Rail Station        Sandwich Place               Pharmacy  \n10                         Bakery      Asian Restaurant      Indian Restaurant  \n11                            Bar           Coffee Shop      Korean Restaurant  "
                    },
                    "execution_count": 118,
                    "metadata": {},
                    "output_type": "execute_result"
                }
            ],
            "source": "cluster_5 = neighborhoods_venues_sorted[neighborhoods_venues_sorted['Cluster Labels'] == 5]\ncluster_5.head()"
        },
        {
            "cell_type": "code",
            "execution_count": 119,
            "metadata": {},
            "outputs": [
                {
                    "data": {
                        "text/html": "<div>\n<style scoped>\n    .dataframe tbody tr th:only-of-type {\n        vertical-align: middle;\n    }\n\n    .dataframe tbody tr th {\n        vertical-align: top;\n    }\n\n    .dataframe thead th {\n        text-align: right;\n    }\n</style>\n<table border=\"1\" class=\"dataframe\">\n  <thead>\n    <tr style=\"text-align: right;\">\n      <th></th>\n      <th>Cluster Labels</th>\n      <th>Postal Code</th>\n      <th>1st Most Common Venue</th>\n      <th>2nd Most Common Venue</th>\n      <th>3rd Most Common Venue</th>\n      <th>4th Most Common Venue</th>\n      <th>5th Most Common Venue</th>\n      <th>6th Most Common Venue</th>\n      <th>7th Most Common Venue</th>\n      <th>8th Most Common Venue</th>\n      <th>9th Most Common Venue</th>\n      <th>10th Most Common Venue</th>\n    </tr>\n  </thead>\n  <tbody>\n    <tr>\n      <th>90</th>\n      <td>6</td>\n      <td>M8Y</td>\n      <td>Park</td>\n      <td>Italian Restaurant</td>\n      <td>Eastern European Restaurant</td>\n      <td>Shopping Mall</td>\n      <td>Ice Cream Shop</td>\n      <td>Event Space</td>\n      <td>Dumpling Restaurant</td>\n      <td>Electronics Store</td>\n      <td>Elementary School</td>\n      <td>Empanada Restaurant</td>\n    </tr>\n  </tbody>\n</table>\n</div>",
                        "text/plain": "    Cluster Labels Postal Code 1st Most Common Venue 2nd Most Common Venue  \\\n90               6         M8Y                  Park    Italian Restaurant   \n\n          3rd Most Common Venue 4th Most Common Venue 5th Most Common Venue  \\\n90  Eastern European Restaurant         Shopping Mall        Ice Cream Shop   \n\n   6th Most Common Venue 7th Most Common Venue 8th Most Common Venue  \\\n90           Event Space   Dumpling Restaurant     Electronics Store   \n\n   9th Most Common Venue 10th Most Common Venue  \n90     Elementary School    Empanada Restaurant  "
                    },
                    "execution_count": 119,
                    "metadata": {},
                    "output_type": "execute_result"
                }
            ],
            "source": "cluster_6 = neighborhoods_venues_sorted[neighborhoods_venues_sorted['Cluster Labels'] == 6]\ncluster_6.head()"
        },
        {
            "cell_type": "code",
            "execution_count": 121,
            "metadata": {
                "scrolled": true
            },
            "outputs": [
                {
                    "data": {
                        "text/html": "<div>\n<style scoped>\n    .dataframe tbody tr th:only-of-type {\n        vertical-align: middle;\n    }\n\n    .dataframe tbody tr th {\n        vertical-align: top;\n    }\n\n    .dataframe thead th {\n        text-align: right;\n    }\n</style>\n<table border=\"1\" class=\"dataframe\">\n  <thead>\n    <tr style=\"text-align: right;\">\n      <th></th>\n      <th>Cluster Labels</th>\n      <th>Postal Code</th>\n      <th>1st Most Common Venue</th>\n      <th>2nd Most Common Venue</th>\n      <th>3rd Most Common Venue</th>\n      <th>4th Most Common Venue</th>\n      <th>5th Most Common Venue</th>\n      <th>6th Most Common Venue</th>\n      <th>7th Most Common Venue</th>\n      <th>8th Most Common Venue</th>\n      <th>9th Most Common Venue</th>\n      <th>10th Most Common Venue</th>\n    </tr>\n  </thead>\n  <tbody>\n    <tr>\n      <th>1</th>\n      <td>7</td>\n      <td>M1C</td>\n      <td>Italian Restaurant</td>\n      <td>Breakfast Spot</td>\n      <td>Burger Joint</td>\n      <td>Park</td>\n      <td>Playground</td>\n      <td>Zoo</td>\n      <td>Electronics Store</td>\n      <td>Elementary School</td>\n      <td>Empanada Restaurant</td>\n      <td>Ethiopian Restaurant</td>\n    </tr>\n  </tbody>\n</table>\n</div>",
                        "text/plain": "   Cluster Labels Postal Code 1st Most Common Venue 2nd Most Common Venue  \\\n1               7         M1C    Italian Restaurant        Breakfast Spot   \n\n  3rd Most Common Venue 4th Most Common Venue 5th Most Common Venue  \\\n1          Burger Joint                  Park            Playground   \n\n  6th Most Common Venue 7th Most Common Venue 8th Most Common Venue  \\\n1                   Zoo     Electronics Store     Elementary School   \n\n  9th Most Common Venue 10th Most Common Venue  \n1   Empanada Restaurant   Ethiopian Restaurant  "
                    },
                    "execution_count": 121,
                    "metadata": {},
                    "output_type": "execute_result"
                }
            ],
            "source": "cluster_7 = neighborhoods_venues_sorted[neighborhoods_venues_sorted['Cluster Labels'] == 7]\ncluster_7.head()"
        },
        {
            "cell_type": "code",
            "execution_count": null,
            "metadata": {},
            "outputs": [],
            "source": "# merge toronto_grouped with toronto_data to add latitude/longitude for each neighborhood so we can display a map\nmap_merge = df_merge.join(neighborhoods_venues_sorted.set_index('Postal Code'), on='Postal Code')\n\n\nmap_merge.head()"
        },
        {
            "cell_type": "code",
            "execution_count": 122,
            "metadata": {},
            "outputs": [
                {
                    "name": "stdout",
                    "output_type": "stream",
                    "text": "Solving environment: done\n\n## Package Plan ##\n\n  environment location: /opt/conda/envs/Python36\n\n  added / updated specs: \n    - folium=0.5.0\n\n\nThe following packages will be downloaded:\n\n    package                    |            build\n    ---------------------------|-----------------\n    vincent-0.4.4              |             py_1          28 KB  conda-forge\n    folium-0.5.0               |             py_0          45 KB  conda-forge\n    ca-certificates-2019.11.28 |       hecc5488_0         145 KB  conda-forge\n    certifi-2019.11.28         |   py36h9f0ad1d_1         149 KB  conda-forge\n    openssl-1.1.1f             |       h516909a_0         2.1 MB  conda-forge\n    altair-4.1.0               |             py_1         614 KB  conda-forge\n    branca-0.4.0               |             py_0          26 KB  conda-forge\n    python_abi-3.6             |          1_cp36m           4 KB  conda-forge\n    ------------------------------------------------------------\n                                           Total:         3.1 MB\n\nThe following NEW packages will be INSTALLED:\n\n    altair:          4.1.0-py_1        conda-forge\n    branca:          0.4.0-py_0        conda-forge\n    folium:          0.5.0-py_0        conda-forge\n    python_abi:      3.6-1_cp36m       conda-forge\n    vincent:         0.4.4-py_1        conda-forge\n\nThe following packages will be UPDATED:\n\n    certifi:         2019.11.28-py36_0             --> 2019.11.28-py36h9f0ad1d_1 conda-forge\n    openssl:         1.1.1e-h7b6447c_0             --> 1.1.1f-h516909a_0         conda-forge\n\nThe following packages will be DOWNGRADED:\n\n    ca-certificates: 2020.1.1-0                    --> 2019.11.28-hecc5488_0     conda-forge\n\n\nDownloading and Extracting Packages\nvincent-0.4.4        | 28 KB     | ##################################### | 100% \nfolium-0.5.0         | 45 KB     | ##################################### | 100% \nca-certificates-2019 | 145 KB    | ##################################### | 100% \ncertifi-2019.11.28   | 149 KB    | ##################################### | 100% \nopenssl-1.1.1f       | 2.1 MB    | ##################################### | 100% \naltair-4.1.0         | 614 KB    | ##################################### | 100% \nbranca-0.4.0         | 26 KB     | ##################################### | 100% \npython_abi-3.6       | 4 KB      | ##################################### | 100% \nPreparing transaction: done\nVerifying transaction: done\nExecuting transaction: done\n"
                }
            ],
            "source": "#Installing Folium for Map\n!conda install -c conda-forge folium=0.5.0 --yes"
        },
        {
            "cell_type": "code",
            "execution_count": 27,
            "metadata": {},
            "outputs": [
                {
                    "ename": "ModuleNotFoundError",
                    "evalue": "No module named 'folium'",
                    "output_type": "error",
                    "traceback": [
                        "\u001b[0;31m---------------------------------------------------------------------------\u001b[0m",
                        "\u001b[0;31mModuleNotFoundError\u001b[0m                       Traceback (most recent call last)",
                        "\u001b[0;32m<ipython-input-27-98c284536407>\u001b[0m in \u001b[0;36m<module>\u001b[0;34m\u001b[0m\n\u001b[0;32m----> 1\u001b[0;31m \u001b[0;32mimport\u001b[0m \u001b[0mfolium\u001b[0m\u001b[0;34m\u001b[0m\u001b[0;34m\u001b[0m\u001b[0m\n\u001b[0m\u001b[1;32m      2\u001b[0m \u001b[0;32mimport\u001b[0m \u001b[0mmatplotlib\u001b[0m\u001b[0;34m.\u001b[0m\u001b[0mcm\u001b[0m \u001b[0;32mas\u001b[0m \u001b[0mcm\u001b[0m\u001b[0;34m\u001b[0m\u001b[0;34m\u001b[0m\u001b[0m\n\u001b[1;32m      3\u001b[0m \u001b[0;32mimport\u001b[0m \u001b[0mmatplotlib\u001b[0m\u001b[0;34m.\u001b[0m\u001b[0mcolors\u001b[0m \u001b[0;32mas\u001b[0m \u001b[0mcolors\u001b[0m\u001b[0;34m\u001b[0m\u001b[0;34m\u001b[0m\u001b[0m\n\u001b[1;32m      4\u001b[0m \u001b[0mlatitude\u001b[0m \u001b[0;34m=\u001b[0m \u001b[0;36m43.6532\u001b[0m\u001b[0;34m\u001b[0m\u001b[0;34m\u001b[0m\u001b[0m\n\u001b[1;32m      5\u001b[0m \u001b[0mlongitude\u001b[0m \u001b[0;34m=\u001b[0m \u001b[0;34m-\u001b[0m\u001b[0;36m79.3832\u001b[0m\u001b[0;34m\u001b[0m\u001b[0;34m\u001b[0m\u001b[0m\n",
                        "\u001b[0;31mModuleNotFoundError\u001b[0m: No module named 'folium'"
                    ]
                }
            ],
            "source": "import folium\nimport matplotlib.cm as cm\nimport matplotlib.colors as colors\nlatitude = 43.6532\nlongitude = -79.3832\n\n# create map\nmap_clusters = folium.Map(location=[latitude, longitude], zoom_start=11)\n\n# set color scheme for the clusters\nx = np.arange(kclusters)\nys = [i + x + (i*x)**2 for i in range(kclusters)]\ncolors_array = cm.rainbow(np.linspace(0, 1, len(ys)))\nrainbow = [colors.rgb2hex(i) for i in colors_array]\n\n# add markers to the map\nmarkers_colors = []\nfor lat, lon, poi, cluster in zip(map_merge['Latitude'], map_merge['Longitude'], map_merge['Postal Code'], map_merge['Cluster Labels']):\n    label = folium.Popup(str(poi) + ' Cluster ' + str(cluster), parse_html=True)\n    if (cluster == cluster):\n        folium.CircleMarker(\n            [lat, lon],\n            radius=5,\n            popup=label,\n            color=rainbow[int(cluster-1)],\n            fill=True,\n            fill_color=rainbow[int(cluster-1)],\n            fill_opacity=0.7).add_to(map_clusters)\n       \nmap_clusters"
        },
        {
            "cell_type": "code",
            "execution_count": null,
            "metadata": {},
            "outputs": [],
            "source": ""
        },
        {
            "cell_type": "code",
            "execution_count": null,
            "metadata": {},
            "outputs": [],
            "source": "#The next thing I have to do is sort the clusters themselves by Most common venues and then use that to recommend where Apartments20 should build the apartment building\n"
        }
    ],
    "metadata": {
        "kernelspec": {
            "display_name": "Python 3.6",
            "language": "python",
            "name": "python3"
        },
        "language_info": {
            "codemirror_mode": {
                "name": "ipython",
                "version": 3
            },
            "file_extension": ".py",
            "mimetype": "text/x-python",
            "name": "python",
            "nbconvert_exporter": "python",
            "pygments_lexer": "ipython3",
            "version": "3.6.9"
        }
    },
    "nbformat": 4,
    "nbformat_minor": 1
}